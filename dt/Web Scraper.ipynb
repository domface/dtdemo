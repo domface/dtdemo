{
 "cells": [
  {
   "cell_type": "code",
   "execution_count": 96,
   "metadata": {},
   "outputs": [
    {
     "data": {
      "text/plain": [
       "200"
      ]
     },
     "execution_count": 96,
     "metadata": {},
     "output_type": "execute_result"
    }
   ],
   "source": [
    "import requests\n",
    "from bs4 import BeautifulSoup\n",
    "from datetime import datetime\n",
    "\n",
    "# Create a Session and pull HTML Data\n",
    "session = requests.Session()\n",
    "session.trust_env = False\n",
    "headers = {\n",
    "    'User-Agent': 'Mozilla/5.0 (Macintosh; Intel Mac OS X 10_13_4) AppleWebKit/605.1.15 (KHTML, like Gecko) Version/11.1 Safari/605.1.15',\n",
    "    'From': 'foo@domain.com'  \n",
    "}\n",
    "page = session.get('https://www.amazon.com/Deep-Powder-Software-Free-WiFi/dp/B004WFZ5R2/ref=pd_sim_405_5?_encoding=UTF8&psc=1&refRID=277XJR4MCB9CYWE0QPY9', headers=headers)\n",
    "# cache the parsed HTML\n",
    "soup = BeautifulSoup(page.content.decode('utf-8'), 'html.parser')\n",
    "page.status_code"
   ]
  },
  {
   "cell_type": "code",
   "execution_count": 97,
   "metadata": {},
   "outputs": [
    {
     "data": {
      "text/plain": [
       "['bug fixes: error when downloading attachment.']"
      ]
     },
     "execution_count": 97,
     "metadata": {},
     "output_type": "execute_result"
    }
   ],
   "source": [
    "\n",
    "# Find Change Log visa vie Latest Updates tag\n",
    "updates = soup.find_all('div', class_=\"bucket\")\n",
    "# Find div index where updates reside\n",
    "for i in range(len(updates)):\n",
    "    return_list = updates[i].find_all(text=\"Latest updates\")\n",
    "    if len(return_list) > 0:\n",
    "        updates_tag = updates[i]\n",
    "        break\n",
    "    \n",
    "change_log = []    \n",
    "for item in updates_tag.find_all('li'):\n",
    "    change_log.append(item.text)\n",
    "    \n",
    "change_log\n"
   ]
  },
  {
   "cell_type": "code",
   "execution_count": 98,
   "metadata": {},
   "outputs": [
    {
     "data": {
      "text/plain": [
       "'Free WiFi'"
      ]
     },
     "execution_count": 98,
     "metadata": {},
     "output_type": "execute_result"
    }
   ],
   "source": [
    "# Get Title\n",
    "title = soup.find_all(id=\"btAsinTitle\")[0].text\n",
    "title"
   ]
  },
  {
   "cell_type": "code",
   "execution_count": 99,
   "metadata": {},
   "outputs": [
    {
     "data": {
      "text/plain": [
       "'1.0'"
      ]
     },
     "execution_count": 99,
     "metadata": {},
     "output_type": "execute_result"
    }
   ],
   "source": [
    "# Get Version\n",
    "technical_details = soup.find_all(id='mas-technical-details')[0]\n",
    "\n",
    "tech_detes_parsed = technical_details.find_all('div', class_=\"a-section\")\n",
    "\n",
    "for i in range(len(tech_detes_parsed)):\n",
    "    return_list = tech_detes_parsed[i].find_all(text=\"Version:\")\n",
    "    if len(return_list) > 0:\n",
    "        version_tag = tech_detes_parsed[i]\n",
    "        break\n",
    "\n",
    "version = version_tag.text.split('Version:')[1][1:]\n",
    "version"
   ]
  },
  {
   "cell_type": "code",
   "execution_count": 100,
   "metadata": {
    "scrolled": true
   },
   "outputs": [
    {
     "name": "stdout",
     "output_type": "stream",
     "text": [
      "April 13, 2011\n",
      "November 16, 2011\n",
      "2011-04-13 00:00:00\n",
      "2011-11-16 00:00:00\n"
     ]
    }
   ],
   "source": [
    "# Get Release Dates\n",
    "product_details = soup.find_all(id=\"productDetailsTable\")[0]\n",
    "content = product_details.find_all('div', class_=\"content\")[0]\n",
    "\n",
    "for item in content.find_all('li'):\n",
    "    if len(item.find_all(text=\"Original Release Date:\")) > 0:\n",
    "        original_release_date = item.text.split(\"Original Release Date:\")[1][1:]\n",
    "    elif len(item.find_all(text=\" Latest Developer Update:\")) > 0:\n",
    "        latest_release_date = item.text.split(\" Latest Developer Update:\")[1][1:-1]\n",
    "        \n",
    "print(original_release_date)\n",
    "print(latest_release_date)\n",
    "print(datetime.strptime(original_release_date, '%B %d, %Y'))\n",
    "print(datetime.strptime(latest_release_date, '%B %d, %Y'))"
   ]
  },
  {
   "cell_type": "code",
   "execution_count": 95,
   "metadata": {},
   "outputs": [
    {
     "data": {
      "text/plain": [
       "['http://www.amazon.com/Facebook/', 'B004WFZ5R2/']"
      ]
     },
     "execution_count": 95,
     "metadata": {},
     "output_type": "execute_result"
    }
   ],
   "source": [
    "'http://www.amazon.com/Facebook/dp/B004WFZ5R2/'.split('dp/')\n"
   ]
  },
  {
   "cell_type": "code",
   "execution_count": null,
   "metadata": {},
   "outputs": [],
   "source": []
  }
 ],
 "metadata": {
  "kernelspec": {
   "display_name": "Python 3",
   "language": "python",
   "name": "python3"
  },
  "language_info": {
   "codemirror_mode": {
    "name": "ipython",
    "version": 3
   },
   "file_extension": ".py",
   "mimetype": "text/x-python",
   "name": "python",
   "nbconvert_exporter": "python",
   "pygments_lexer": "ipython3",
   "version": "3.6.5"
  }
 },
 "nbformat": 4,
 "nbformat_minor": 2
}
